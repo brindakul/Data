{
  "nbformat": 4,
  "nbformat_minor": 0,
  "metadata": {
    "colab": {
      "name": "DSCI_final_Notebook.ipynb",
      "provenance": [],
      "collapsed_sections": []
    },
    "kernelspec": {
      "name": "python3",
      "display_name": "Python 3"
    },
    "language_info": {
      "name": "python"
    }
  },
  "cells": [
    {
      "cell_type": "markdown",
      "source": [
        "### Module submission group\n",
        "- Group member 1\n",
        "    - Name: Kartik Vora\n",
        "    - Email: kav73@drexel.edu\n",
        "- Group member 2\n",
        "    - Name: Jerin Philip\n",
        "    - Email: jp3839@drexel.edu\n",
        "- Group member 3\n",
        "    - Name: Mahima Modi\n",
        "    - Email: mjm838@drexel.edu\n",
        "- Group member 4\n",
        "    - Name: Brinda Kulkarni\n",
        "    - Email: bk644@drexel.edu\n",
        "    \n",
        "Using web-scraping techniques, we plan to acquire weather and accidents related information for New York.  We aim to highlight the link between weather conditions and road accident risk at an aggregate level , in order to improve road safety monitoring.According to the FHWA, most weather-related crashes happen on wet pavement (nearly 70 percent), while 46 percent of such accidents occur during rainfall, showing a clear relation between weather and accidents. Thus, we hope we can consolidate this data and make it easier to consume and distribute."
      ],
      "metadata": {
        "id": "fAMdX4BRATSo"
      }
    },
    {
      "cell_type": "markdown",
      "source": [
        "Data Sources:\n",
        "\n",
        "NYC Open Data\n",
        "*  https://data.cityofnewyork.us/Public-Safety/Motor-Vehicle-Collisions-Crashes/h9gi-nx95\n",
        "\n",
        "FDOT Open data Hub\n",
        "*  https://gis-fdot.opendata.arcgis.com/datasets/crashes-all/explore?layer=0&location=27.398575%2C-83.000000%2C6.97&showTable=true\n",
        "\n",
        "Virginia Accidents Data - \n",
        "\n",
        "*   https://www.virginiaroads.org/datasets/VDOT::crash-data-1/api?layer=0\n",
        "\n",
        "\n",
        "Weather API : \n",
        "  * Documentation Link: https://openweathermap.org/history\n"
      ],
      "metadata": {
        "id": "eKkA-ECGFOPR"
      }
    },
    {
      "cell_type": "markdown",
      "source": [
        "Installing Libraries"
      ],
      "metadata": {
        "id": "yTDC7C6YCJyC"
      }
    },
    {
      "cell_type": "code",
      "source": [
        "!pip install selenium\n",
        "!pip install sodapy\n",
        "!pip install geopy"
      ],
      "metadata": {
        "id": "8yJ7wcX6CJF3",
        "colab": {
          "base_uri": "https://localhost:8080/"
        },
        "outputId": "94b73c98-67aa-4fed-f4b1-c34d32371c74"
      },
      "execution_count": 1,
      "outputs": [
        {
          "output_type": "stream",
          "name": "stdout",
          "text": [
            "Looking in indexes: https://pypi.org/simple, https://us-python.pkg.dev/colab-wheels/public/simple/\n",
            "Requirement already satisfied: selenium in /usr/local/lib/python3.7/dist-packages (4.2.0)\n",
            "Requirement already satisfied: trio~=0.17 in /usr/local/lib/python3.7/dist-packages (from selenium) (0.20.0)\n",
            "Requirement already satisfied: trio-websocket~=0.9 in /usr/local/lib/python3.7/dist-packages (from selenium) (0.9.2)\n",
            "Collecting urllib3[secure,socks]~=1.26\n",
            "  Using cached urllib3-1.26.9-py2.py3-none-any.whl (138 kB)\n",
            "Requirement already satisfied: idna in /usr/local/lib/python3.7/dist-packages (from trio~=0.17->selenium) (2.10)\n",
            "Requirement already satisfied: outcome in /usr/local/lib/python3.7/dist-packages (from trio~=0.17->selenium) (1.1.0)\n",
            "Requirement already satisfied: sortedcontainers in /usr/local/lib/python3.7/dist-packages (from trio~=0.17->selenium) (2.4.0)\n",
            "Requirement already satisfied: sniffio in /usr/local/lib/python3.7/dist-packages (from trio~=0.17->selenium) (1.2.0)\n",
            "Requirement already satisfied: attrs>=19.2.0 in /usr/local/lib/python3.7/dist-packages (from trio~=0.17->selenium) (21.4.0)\n",
            "Requirement already satisfied: async-generator>=1.9 in /usr/local/lib/python3.7/dist-packages (from trio~=0.17->selenium) (1.10)\n",
            "Requirement already satisfied: wsproto>=0.14 in /usr/local/lib/python3.7/dist-packages (from trio-websocket~=0.9->selenium) (1.1.0)\n",
            "Requirement already satisfied: pyOpenSSL>=0.14 in /usr/local/lib/python3.7/dist-packages (from urllib3[secure,socks]~=1.26->selenium) (22.0.0)\n",
            "Requirement already satisfied: certifi in /usr/local/lib/python3.7/dist-packages (from urllib3[secure,socks]~=1.26->selenium) (2022.5.18.1)\n",
            "Requirement already satisfied: cryptography>=1.3.4 in /usr/local/lib/python3.7/dist-packages (from urllib3[secure,socks]~=1.26->selenium) (37.0.2)\n",
            "Requirement already satisfied: PySocks!=1.5.7,<2.0,>=1.5.6 in /usr/local/lib/python3.7/dist-packages (from urllib3[secure,socks]~=1.26->selenium) (1.7.1)\n",
            "Requirement already satisfied: cffi>=1.12 in /usr/local/lib/python3.7/dist-packages (from cryptography>=1.3.4->urllib3[secure,socks]~=1.26->selenium) (1.15.0)\n",
            "Requirement already satisfied: pycparser in /usr/local/lib/python3.7/dist-packages (from cffi>=1.12->cryptography>=1.3.4->urllib3[secure,socks]~=1.26->selenium) (2.21)\n",
            "Requirement already satisfied: h11<1,>=0.9.0 in /usr/local/lib/python3.7/dist-packages (from wsproto>=0.14->trio-websocket~=0.9->selenium) (0.13.0)\n",
            "Requirement already satisfied: typing-extensions in /usr/local/lib/python3.7/dist-packages (from h11<1,>=0.9.0->wsproto>=0.14->trio-websocket~=0.9->selenium) (4.2.0)\n",
            "Installing collected packages: urllib3\n",
            "  Attempting uninstall: urllib3\n",
            "    Found existing installation: urllib3 1.25.11\n",
            "    Uninstalling urllib3-1.25.11:\n",
            "      Successfully uninstalled urllib3-1.25.11\n",
            "\u001b[31mERROR: pip's dependency resolver does not currently take into account all the packages that are installed. This behaviour is the source of the following dependency conflicts.\n",
            "requests 2.23.0 requires urllib3!=1.25.0,!=1.25.1,<1.26,>=1.21.1, but you have urllib3 1.26.9 which is incompatible.\n",
            "datascience 0.10.6 requires folium==0.2.1, but you have folium 0.8.3 which is incompatible.\u001b[0m\n",
            "Successfully installed urllib3-1.26.9\n",
            "Looking in indexes: https://pypi.org/simple, https://us-python.pkg.dev/colab-wheels/public/simple/\n",
            "Requirement already satisfied: sodapy in /usr/local/lib/python3.7/dist-packages (2.1.1)\n",
            "Requirement already satisfied: requests>=2.20.0 in /usr/local/lib/python3.7/dist-packages (from sodapy) (2.23.0)\n",
            "Requirement already satisfied: idna<3,>=2.5 in /usr/local/lib/python3.7/dist-packages (from requests>=2.20.0->sodapy) (2.10)\n",
            "Requirement already satisfied: certifi>=2017.4.17 in /usr/local/lib/python3.7/dist-packages (from requests>=2.20.0->sodapy) (2022.5.18.1)\n",
            "Collecting urllib3!=1.25.0,!=1.25.1,<1.26,>=1.21.1\n",
            "  Using cached urllib3-1.25.11-py2.py3-none-any.whl (127 kB)\n",
            "Requirement already satisfied: chardet<4,>=3.0.2 in /usr/local/lib/python3.7/dist-packages (from requests>=2.20.0->sodapy) (3.0.4)\n",
            "Installing collected packages: urllib3\n",
            "  Attempting uninstall: urllib3\n",
            "    Found existing installation: urllib3 1.26.9\n",
            "    Uninstalling urllib3-1.26.9:\n",
            "      Successfully uninstalled urllib3-1.26.9\n",
            "\u001b[31mERROR: pip's dependency resolver does not currently take into account all the packages that are installed. This behaviour is the source of the following dependency conflicts.\n",
            "selenium 4.2.0 requires urllib3[secure,socks]~=1.26, but you have urllib3 1.25.11 which is incompatible.\n",
            "datascience 0.10.6 requires folium==0.2.1, but you have folium 0.8.3 which is incompatible.\u001b[0m\n",
            "Successfully installed urllib3-1.25.11\n",
            "Looking in indexes: https://pypi.org/simple, https://us-python.pkg.dev/colab-wheels/public/simple/\n",
            "Requirement already satisfied: geopy in /usr/local/lib/python3.7/dist-packages (1.17.0)\n",
            "Requirement already satisfied: geographiclib<2,>=1.49 in /usr/local/lib/python3.7/dist-packages (from geopy) (1.52)\n"
          ]
        }
      ]
    },
    {
      "cell_type": "markdown",
      "source": [
        "Importing libraries"
      ],
      "metadata": {
        "id": "N2lLvQ02CUTc"
      }
    },
    {
      "cell_type": "code",
      "source": [
        "from bs4 import BeautifulSoup\n",
        "import urllib\n",
        "import requests \n",
        "import asyncio\n",
        "import pandas as pd\n",
        "import numpy as np\n",
        "import math\n",
        "import datetime\n",
        "import os\n",
        "from csv import writer\n",
        "import datetime\n",
        "from sodapy import Socrata\n",
        "import matplotlib.pyplot as plt\n",
        "import geopy"
      ],
      "metadata": {
        "id": "cO8G-XpXCZ6y"
      },
      "execution_count": 2,
      "outputs": []
    },
    {
      "cell_type": "markdown",
      "source": [
        "Import Selenium libraries required for Web Scraping"
      ],
      "metadata": {
        "id": "W9h4WmRcHklB"
      }
    },
    {
      "cell_type": "code",
      "source": [
        "from selenium.webdriver.support.ui import WebDriverWait\n",
        "from selenium.webdriver.common.by import By\n",
        "from selenium.webdriver.support import expected_conditions as EC\n",
        "from selenium.webdriver.support.ui import WebDriverWait\n",
        "from selenium.webdriver.common.by import By\n",
        "from selenium.webdriver.support import expected_conditions as EC\n",
        "from selenium import webdriver\n",
        "from selenium.webdriver.common.keys import Keys"
      ],
      "metadata": {
        "id": "6c8HIKp6Y6yO"
      },
      "execution_count": 3,
      "outputs": []
    },
    {
      "cell_type": "markdown",
      "source": [
        "Creating/Append row to existing CSV"
      ],
      "metadata": {
        "id": "W_ZVBk3Pxl9J"
      }
    },
    {
      "cell_type": "code",
      "source": [
        "def append_to_csv(csvFileName, elementsToAppend):\n",
        "    # open the csv file in the append mode\n",
        "    with open(csvFileName, 'a+', newline='') as append_obj:\n",
        "        # created a writer object from the writer module\n",
        "        append_writer = writer(append_obj)\n",
        "        # the created writer object which writes new row to the csv\n",
        "        append_writer.writerow(elementsToAppend)"
      ],
      "metadata": {
        "id": "QXLr0ZUoxlAf"
      },
      "execution_count": 4,
      "outputs": []
    },
    {
      "cell_type": "markdown",
      "source": [
        "Function to add car_crash_location"
      ],
      "metadata": {
        "id": "YFs8SkRVRJm0"
      }
    },
    {
      "cell_type": "code",
      "source": [
        "def add_carsh_location(crash_df):\n",
        "  \n",
        " \n",
        "  # Initialize Nominatim API\n",
        "  geolocator = Nominatim(user_agent=\"geoapiExercises\")\n",
        "  \n",
        "\n",
        "  for i,row in crash_df.iterrows():\n",
        "      Latitude,Longitude = row['Latitude'], row['Longitude']\n",
        "\n",
        "      try:\n",
        "          location = geolocator.geocode(str(Latitude)+\",\"+str(Longitude))\n",
        "\n",
        "          print(location.raw['display_name'])\n",
        "          loc_data = location.raw['display_name'].split(', ')\n",
        "  \n",
        "          zcode = int(loc_data[-2])\n",
        "          crash_df.loc[i,['zipcode']] = zcode\n",
        "      except:\n",
        "          print(\"lat and long\",row['Latitude'], row['Longitude'])\n",
        "  return crash_df\n",
        "  "
      ],
      "metadata": {
        "id": "2qVD5YQZRFaM"
      },
      "execution_count": 36,
      "outputs": []
    },
    {
      "cell_type": "code",
      "source": [
        "if os.path.exists('weather.csv'):\n",
        "  df_weather = pd.read_csv('weather.csv')\n",
        "else:\n",
        "  df_weather = pd.DataFrame(columns=['timestamp', 'longitude','latitude', 'cloudiness', 'temperature', 'feels_like', 'pressure', 'humidity', 'wind_deg', 'wind_speed', 'rain', 'weather_desc'])\n",
        "  df_weather.to_csv('weather.csv',index = False)"
      ],
      "metadata": {
        "id": "Ku5sSZJuJD2I"
      },
      "execution_count": 6,
      "outputs": []
    },
    {
      "cell_type": "markdown",
      "source": [
        "Function to call weather API \n",
        "\n",
        "This function requires latitude, longitude and timestamp to request for weather data. It caches the response in weather.csv file, so that for future use, data can simply be obtained from it instead of calling the API again"
      ],
      "metadata": {
        "id": "69TjYOFuB3vq"
      }
    },
    {
      "cell_type": "code",
      "source": [
        "def get_weather_data(api_key,time,lat,lng):\n",
        "  # need to add code if data for that time, lat, long already exists in dataframe\n",
        "  query = df_weather.loc[((df_weather[\"timestamp\"]==int(time))&(df_weather[\"longitude\"]==float(lng))&(df_weather[\"latitude\"]==float(lat)))]\n",
        "  if len(query.values) !=0:\n",
        "\n",
        "    details =  {\n",
        "    'cloudiness': query['cloudiness'].values[0],\n",
        "    'temperature': query['temperature'].values[0],\n",
        "    'feels_like': query['feels_like'].values[0],\n",
        "    'pressure': query['pressure'].values[0],\n",
        "    'humidity': query['humidity'].values[0],\n",
        "    'wind_deg': query['wind_deg'].values[0],\n",
        "    'wind_speed': query['wind_speed'].values[0],\n",
        "    'rain': query['rain'].values[0] ,\n",
        "    'weather_desc' : query['weather_desc'].values[0]\n",
        "    }\n",
        "    \n",
        "  else:\n",
        "    address = \"http://history.openweathermap.org/data/2.5/history/city?lat=\"+str(lat)+\"&lon=\"+str(lng)+\"&type=hour&start=\"+str(time)+\"&cnt=1&appid=\" + api_key\n",
        "    resp = requests.get(address)\n",
        "    result = resp.json()\n",
        "    \n",
        "    if 'list' in result:\n",
        "      cloudiness = result['list'][0]['clouds']['all'] if \"clouds\" in result['list'][0] else 0\n",
        "      temperature = result['list'][0]['main']['temp'] if \"main\" in result['list'][0] else 0\n",
        "      feels_like = result['list'][0]['main']['feels_like'] if \"main\" in result['list'][0] else 0\n",
        "      pressure = result['list'][0]['main']['pressure'] if \"main\" in result['list'][0] else 0\n",
        "      humidity = result['list'][0]['main']['humidity'] if \"main\" in result['list'][0] else 0\n",
        "      wind_deg = result['list'][0]['wind']['deg'] if \"wind\" in result['list'][0] else 0\n",
        "      wind_speed = result['list'][0]['wind']['speed'] if \"wind\" in result['list'][0] else 0\n",
        "      rain = result['list'][0]['rain']['1h'] if \"rain\" in result['list'][0] else 0\n",
        "      weather_desc = result['list'][0]['weather'][0]['description'] if \"weather\" in result['list'][0] else NA \n",
        "      details =  {\n",
        "      'cloudiness': cloudiness,\n",
        "      'temperature': temperature,\n",
        "      'feels_like': feels_like,\n",
        "      'pressure': pressure,\n",
        "      'humidity': humidity,\n",
        "      'wind_deg': wind_deg,\n",
        "      'wind_speed': wind_speed,\n",
        "      'rain': rain ,\n",
        "      'weather_desc' : weather_desc\n",
        "      }\n",
        "      # append new data to weather.csv so that next time no need to call api\n",
        "      newrow = [time,  lng,  lat, cloudiness, temperature, feels_like, pressure, humidity, wind_deg, wind_speed, rain, weather_desc]\n",
        "      append_to_csv('weather.csv', newrow)\n",
        "    else:\n",
        "      newrow = [time,  lng,  lat, 0, 0, 0, 0, 0, 0, 0, 0, \"NA\"]\n",
        "      append_to_csv('weather.csv', newrow)\n",
        "      details = None \n",
        "  return details"
      ],
      "metadata": {
        "id": "FqHHG_UYB3Ga"
      },
      "execution_count": 7,
      "outputs": []
    },
    {
      "cell_type": "markdown",
      "source": [
        "Function to save Dataframe to .csv"
      ],
      "metadata": {
        "id": "EYyRdpSYChIX"
      }
    },
    {
      "cell_type": "code",
      "source": [
        "def save_dataframe_to_csv(df, filepath):  \n",
        "  df.to_csv(filepath, index = False)  \n"
      ],
      "metadata": {
        "id": "sex0M2g6Cvo1"
      },
      "execution_count": 8,
      "outputs": []
    },
    {
      "cell_type": "markdown",
      "source": [
        ""
      ],
      "metadata": {
        "id": "G7FSz7wiCm1P"
      }
    },
    {
      "cell_type": "markdown",
      "source": [
        "Merge all the data from NYC, Virginia and Florida into a single Dataframe"
      ],
      "metadata": {
        "id": "NQ84GKF-C-7f"
      }
    },
    {
      "cell_type": "code",
      "source": [
        "def merge_all_dataframes():\n",
        "\n",
        "  nyc_df = pd.read_csv('nyc_weather.csv')\n",
        "  virginia_df = pd.read_csv(\"virginia_accidents_weather.csv\")\n",
        "  florida_df = pd.read_csv(\"florida_accidents_weather.csv\")\n",
        "\n",
        "  crash_columns = ['CRASH_DT', 'Latitude','Longitude' ,'cloudiness', 'temperature',\n",
        "        'feels_like', 'pressure', 'humidity', 'wind_deg', 'wind_speed', 'rain',\n",
        "        'weather_desc','LOCATION']\n",
        "\n",
        "  nyc_columns = ['crash_datetime','latitude', 'longitude', 'cloudiness', 'temperature',\n",
        "       'feels_like', 'pressure', 'humidity', 'wind_deg', 'wind_speed', 'rain',\n",
        "       'weather_desc']\n",
        "  nyc_df = nyc_df[nyc_columns]\n",
        "  nyc_df['LOCATION'] = 'NYC'\n",
        "  nyc_df.columns = crash_columns\n",
        "\n",
        "  virginia_columns = ['CRASH_DT', 'LAT','LONG', 'cloudiness', 'temperature',\n",
        "       'feels_like', 'pressure', 'humidity', 'wind_deg', 'wind_speed', 'rain',\n",
        "       'weather_desc','LOCATION']\n",
        "\n",
        "  virginia_df = virginia_df[virginia_columns]\n",
        "  virginia_df.columns = crash_columns\n",
        "\n",
        "  florida_columns = ['CRASH_DT', 'LAT','LONG', 'cloudiness', 'temperature',\n",
        "       'feels_like', 'pressure', 'humidity', 'wind_deg', 'wind_speed', 'rain',\n",
        "       'weather_desc','LOCATION']\n",
        "\n",
        "  florida_df = florida_df[florida_columns]\n",
        "  florida_df.columns = crash_columns\n",
        "\n",
        "  crash_df = pd.concat([florida_df, virginia_df,nyc_df], ignore_index=True)\n",
        "  crash_df['CRASH_DATE'] = [datetime.datetime.fromtimestamp(dt) for dt in crash_df.CRASH_DT.values]\n",
        "\n",
        "  crash_df['DOW'] = crash_df['CRASH_DATE'].dt.dayofweek\n",
        "  crash_df['Hour'] = crash_df['CRASH_DATE'].dt.hour\n",
        "  print(\"Data Merged.\")\n",
        "  save_dataframe_to_csv(crash_df, \"accidents_weather.csv\")\n",
        "  return crash_df"
      ],
      "metadata": {
        "id": "NsulEEizC7XZ"
      },
      "execution_count": 34,
      "outputs": []
    },
    {
      "cell_type": "markdown",
      "source": [
        "All URLs/API details required to fetch the data"
      ],
      "metadata": {
        "id": "aU581xLwZlxC"
      }
    },
    {
      "cell_type": "code",
      "source": [
        "nyc_url = 'https://data.cityofnewyork.us/Public-Safety/Motor-Vehicle-Collisions-Crashes/h9gi-nx95'\n",
        "nyc_app_token=\"uTiJmqGXfJhlkDskjEHLDvsha\"\n",
        "virginia_url = 'https://services.arcgis.com/p5v98VHDX9Atv3l7/arcgis/rest/services/CrashData_test/FeatureServer/0/query?where=CRASH_YEAR%20%3D%20\\'2021\\'%20OR%20CRASH_YEAR%20%3D%20\\'2022\\'&outFields=DOCUMENT_NBR,CRASH_DT,CRASH_MILITARY_TM,CRASH_SEVERITY,PERSONS_INJURED,PEDESTRIANS_KILLED,PEDESTRIANS_INJURED,VEH_COUNT,COLLISION_TYPE,LIGHT_CONDITION,RD_TYPE,ROADWAY_SURFACE_COND,RELATION_TO_ROADWAY,ROADWAY_ALIGNMENT,ROADWAY_SURFACE_TYPE,ROADWAY_DEFECT,ROADWAY_DESCRIPTION,INTERSECTION_TYPE,CRASH_YEAR&outSR=4326&f=json'\n",
        "florida_url = 'https://gis.fdot.gov/arcgis/rest/services/Crashes_All/FeatureServer/0/query?f=json&where=1%3D1&outFields=*&returnGeometry=false&orderByFields=CALENDAR_YEAR%20desc&resultOffset=0&resultRecordCount=2000'\n",
        "api_key = '97f5888ee681302785267559cfd1d433'#'3b95598e42d970a238054a27979d907a'\n",
        "florida_site_url ='https://gis-fdot.opendata.arcgis.com/datasets/crashes-all/explore?layer=0&location=27.368543%2C-83.000000%2C6.97&showTable=true'"
      ],
      "metadata": {
        "id": "J99kxSRRZrfF"
      },
      "execution_count": 10,
      "outputs": []
    },
    {
      "cell_type": "markdown",
      "source": [
        "NYC Data obtained used Selenium (Only works in Jupyter Notebook and needs to install chromedrive before using this)"
      ],
      "metadata": {
        "id": "QYP4MuU9ApHc"
      }
    },
    {
      "cell_type": "code",
      "source": [
        "'''def get_nyc_data_using_selenium():\n",
        "  ### Download cromedriver before using this \n",
        "  driver = webdriver.Chrome('./chromedriver_win32/chromedriver')\n",
        "  url = \"https://data.cityofnewyork.us/Public-Safety/Motor-Vehicle-Collisions-Crashes/h9gi-nx95\"\n",
        "  driver.get(url)\n",
        "  print(driver.current_url)\n",
        "  from requests_html import AsyncHTMLSession \n",
        "  asession = AsyncHTMLSession()\n",
        "  r = await asession.get(url)\n",
        "  await r.html.arender()\n",
        "  resp=r.html.raw_html\n",
        "  header = driver.find_elements_by_xpath (\"//html/body/main/div/div[1]/div/div[3]/section[3]/div[2]/div/div/div[4]/div[1]/div/table/thead/tr[\"+str(1)+\"]/th\")\n",
        "  columns = []\n",
        "  for j in range(len(header)):\n",
        "      r=driver.find_elements_by_xpath (\"//html/body/main/div/div[1]/div/div[3]/section[3]/div[2]/div/div/div[4]/div[1]/div/table/thead/tr[\"+str(1)+\"]/th[\"+str(j)+\"]\")\n",
        "      if len(r)>0:\n",
        "          columns.append(r[0].text)\n",
        "  list2=[]\n",
        "  # for pg in range(1,20):\n",
        "  cnt=0\n",
        "  pg = 1\n",
        "  TOTAL_Pg = 866\n",
        "  while pg<TOTAL_Pg:\n",
        "      try:\n",
        "          print(\"We are on page:\",pg)\n",
        "          for i in range(1,15):\n",
        "              list1=[]\n",
        "              n=driver.find_elements_by_xpath (\"//html/body/main/div/div[1]/div/div[3]/section[3]/div[2]/div/div/div[4]/div[1]/div/table/tbody/tr[\"+str(i)+\"]/td\")\n",
        "              for j in range(len(n)):\n",
        "                  r=driver.find_elements_by_xpath (\"//html/body/main/div/div[1]/div/div[3]/section[3]/div[2]/div/div/div[4]/div[1]/div/table/tbody/tr[\"+str(i)+\"]/td[\"+str(j)+\"]\")\n",
        "                  if len(r)>0:\n",
        "                      list1.append(r[0].text)\n",
        "              list2.append(list1)\n",
        "          WebDriverWait(driver,250).until(EC.element_to_be_clickable((By.XPATH,\"//button[@class='pager-button-next']\"))).click()\n",
        "          pg+=1\n",
        "      except:\n",
        "          cnt+=1\n",
        "          print(\"ReTrying\")\n",
        "      import pandas as pd\n",
        "  df19=pd.DataFrame(list2, columns=columns)\n",
        "  df19.to_csv('NYC_data.csv')\n",
        "  return df19'''"
      ],
      "metadata": {
        "id": "73kTRQajAnkn",
        "colab": {
          "base_uri": "https://localhost:8080/",
          "height": 123
        },
        "outputId": "f969abea-c2d4-416b-f3d9-466203e92f37"
      },
      "execution_count": 11,
      "outputs": [
        {
          "output_type": "execute_result",
          "data": {
            "text/plain": [
              "'def get_nyc_data_using_selenium():\\n  ### Download cromedriver before using this \\n  driver = webdriver.Chrome(\\'./chromedriver_win32/chromedriver\\')\\n  url = \"https://data.cityofnewyork.us/Public-Safety/Motor-Vehicle-Collisions-Crashes/h9gi-nx95\"\\n  driver.get(url)\\n  print(driver.current_url)\\n  from requests_html import AsyncHTMLSession \\n  asession = AsyncHTMLSession()\\n  r = await asession.get(url)\\n  await r.html.arender()\\n  resp=r.html.raw_html\\n  header = driver.find_elements_by_xpath (\"//html/body/main/div/div[1]/div/div[3]/section[3]/div[2]/div/div/div[4]/div[1]/div/table/thead/tr[\"+str(1)+\"]/th\")\\n  columns = []\\n  for j in range(len(header)):\\n      r=driver.find_elements_by_xpath (\"//html/body/main/div/div[1]/div/div[3]/section[3]/div[2]/div/div/div[4]/div[1]/div/table/thead/tr[\"+str(1)+\"]/th[\"+str(j)+\"]\")\\n      if len(r)>0:\\n          columns.append(r[0].text)\\n  list2=[]\\n  # for pg in range(1,20):\\n  cnt=0\\n  pg = 1\\n  TOTAL_Pg = 866\\n  while pg<TOTAL_Pg:\\n      try:\\n          print(\"We are on page:\",pg)\\n          for i in range(1,15):\\n              list1=[]\\n              n=driver.find_elements_by_xpath (\"//html/body/main/div/div[1]/div/div[3]/section[3]/div[2]/div/div/div[4]/div[1]/div/table/tbody/tr[\"+str(i)+\"]/td\")\\n              for j in range(len(n)):\\n                  r=driver.find_elements_by_xpath (\"//html/body/main/div/div[1]/div/div[3]/section[3]/div[2]/div/div/div[4]/div[1]/div/table/tbody/tr[\"+str(i)+\"]/td[\"+str(j)+\"]\")\\n                  if len(r)>0:\\n                      list1.append(r[0].text)\\n              list2.append(list1)\\n          WebDriverWait(driver,250).until(EC.element_to_be_clickable((By.XPATH,\"//button[@class=\\'pager-button-next\\']\"))).click()\\n          pg+=1\\n      except:\\n          cnt+=1\\n          print(\"ReTrying\")\\n      import pandas as pd\\n  df19=pd.DataFrame(list2, columns=columns)\\n  df19.to_csv(\\'NYC_data.csv\\')\\n  return df19'"
            ],
            "application/vnd.google.colaboratory.intrinsic+json": {
              "type": "string"
            }
          },
          "metadata": {},
          "execution_count": 11
        }
      ]
    },
    {
      "cell_type": "markdown",
      "source": [
        "Collecting Data for NYC - Getting the Data from API"
      ],
      "metadata": {
        "id": "4rkCdgNIAy4x"
      }
    },
    {
      "cell_type": "code",
      "source": [
        "def get_nyc_data_using_api(url):\n",
        "  client = Socrata(\"data.cityofnewyork.us\", app_token=\"uTiJmqGXfJhlkDskjEHLDvsha\")\n",
        "  results = client.get(\"h9gi-nx95\", limit=50000)\n",
        "\n",
        "  # Convert to pandas  \n",
        "  df = pd.DataFrame.from_records(results)\n",
        "  df['LOCATION'] =\"NYC\"\n",
        "  save_dataframe_to_csv(df,'nyc_accidents.csv')\n",
        "  return df"
      ],
      "metadata": {
        "id": "96giaM4YE_Lg"
      },
      "execution_count": 12,
      "outputs": []
    },
    {
      "cell_type": "code",
      "source": [
        "#df = get_nyc_data_using_api(nyc_url)"
      ],
      "metadata": {
        "id": "FIlLFvaPHYmI"
      },
      "execution_count": 13,
      "outputs": []
    },
    {
      "cell_type": "markdown",
      "source": [
        "Preprocessing of NYC Data - making it ready for Weather API call"
      ],
      "metadata": {
        "id": "12FliGZ4L_4R"
      }
    },
    {
      "cell_type": "code",
      "execution_count": 14,
      "metadata": {
        "id": "YhjOV1Nk_Xxt"
      },
      "outputs": [],
      "source": [
        "def clean_nyc_data(df):\n",
        "  df['crash_date'] = pd.to_datetime(df['crash_date']).dt.date\n",
        "  df['crash_time'] = pd.to_datetime(df['crash_time']).dt.time\n",
        "  df['crash_datetime'] = pd.to_datetime(df.crash_date.astype(str) + ' ' + df.crash_time.astype(str)).astype(np.int64) // 10**9\n",
        "  df = df[(df['crash_date'] > (datetime.date.today() - datetime.timedelta(days=365)))]\n",
        "  df= df[df.latitude.notna()|df.latitude !=0]\n",
        "  return df\n",
        "  "
      ]
    },
    {
      "cell_type": "markdown",
      "source": [
        "Merge the cleaned data with weather data and save it in a csv file"
      ],
      "metadata": {
        "id": "sEQrcpBlBH4g"
      }
    },
    {
      "cell_type": "code",
      "source": [
        "def merge_weather_accident_nyc(df):\n",
        "  for idx, row in df.iterrows():\n",
        "        if  df.loc[idx,'latitude'] and df.loc[idx,'longitude']:\n",
        "          weather_details = get_weather_data(api_key,df.loc[idx,'crash_datetime'],df.loc[idx,'latitude'],df.loc[idx,'longitude'])\n",
        "          if weather_details:\n",
        "            df.loc[idx,\"cloudiness\"] = weather_details['cloudiness']\n",
        "            df.loc[idx,\"temperature\"] = weather_details['temperature']\n",
        "            df.loc[idx,\"feels_like\"] = weather_details['feels_like']\n",
        "            df.loc[idx,\"pressure\"] = weather_details['pressure']\n",
        "            df.loc[idx,\"humidity\"] = weather_details['humidity']\n",
        "            df.loc[idx,\"wind_deg\"] = weather_details['wind_deg']\n",
        "            df.loc[idx,\"wind_speed\"] = weather_details['wind_speed']\n",
        "            df.loc[idx,\"rain\"] = weather_details['rain']\n",
        "            df.loc[idx,\"weather_desc\"] = weather_details['weather_desc']\n",
        "  save_dataframe_to_csv(df,'nyc_weather.csv')\n",
        "  return df"
      ],
      "metadata": {
        "id": "9W_YMkuJBr1R"
      },
      "execution_count": 15,
      "outputs": []
    },
    {
      "cell_type": "markdown",
      "source": [
        "Getting the Virginia Accidents Data using API"
      ],
      "metadata": {
        "id": "o2bCz9hCC1GL"
      }
    },
    {
      "cell_type": "code",
      "source": [
        "def get_virginia_data_using_api(virginia_url):\n",
        "  data = requests.get(virginia_url).json()\n",
        "  column_names = [\"CRASH_DT\", \"CRASH_YEAR\", \"LIGHT_CONDITION\",\"LAT\",\"LONG\",\"LOCATION\"]\n",
        "  df = pd.DataFrame(columns = column_names)\n",
        "  for i in range(len(data['features'])):\n",
        "    crash_date = int(data['features'][i]['attributes'][\"CRASH_DT\"])//1000\n",
        "    crash_year = data['features'][i]['attributes'][\"CRASH_YEAR\"]\n",
        "    light_condition = data['features'][i]['attributes'][\"LIGHT_CONDITION\"]\n",
        "    lng = data['features'][i]['geometry']['x']\n",
        "    lat = data['features'][1]['geometry']['y']\n",
        "    df.loc[i] = [crash_date,crash_year,light_condition,lat,lng,\"Virginia\"]\n",
        "  save_dataframe_to_csv(df,'virginia_accidents.csv')\n",
        "  return df"
      ],
      "metadata": {
        "id": "xgNkYfSFDTlt"
      },
      "execution_count": 16,
      "outputs": []
    },
    {
      "cell_type": "markdown",
      "source": [
        "Preprocessing Virginia data and making it ready for calling weather API"
      ],
      "metadata": {
        "id": "1PTkByO__sDs"
      }
    },
    {
      "cell_type": "code",
      "source": [
        "def clean_virginia_data(df):\n",
        "  # the crash_date in milliseconds, need to divide it by 1000\n",
        "  df[\"CRASH_DATE\"]=[datetime.datetime.fromtimestamp(dt) for dt in df.CRASH_DT.values]\n",
        "  df = df[(df['CRASH_DATE'] > np.datetime64('2021-06-05'))]\n",
        "  \n",
        "  return df"
      ],
      "metadata": {
        "id": "FqRjlcpoDdVM"
      },
      "execution_count": 17,
      "outputs": []
    },
    {
      "cell_type": "markdown",
      "source": [
        "Calling the weather API and merging with the accidents Data"
      ],
      "metadata": {
        "id": "3hCXWhTlP7oq"
      }
    },
    {
      "cell_type": "code",
      "source": [
        "def merge_weather_accident_virginia(df) :\n",
        "  for idx, row in df.iterrows():\n",
        "        if  df.loc[idx,'LAT'] and df.loc[idx,'LONG']:\n",
        "          weather_details = get_weather_data(api_key,str(df.loc[idx,'CRASH_DT']),df.loc[idx,'LAT'],df.loc[idx,'LONG'])\n",
        "          if weather_details:\n",
        "            df.loc[idx,\"cloudiness\"] = weather_details['cloudiness']\n",
        "            df.loc[idx,\"temperature\"] = weather_details['temperature']\n",
        "            df.loc[idx,\"feels_like\"] = weather_details['feels_like']\n",
        "            df.loc[idx,\"pressure\"] = weather_details['pressure']\n",
        "            df.loc[idx,\"humidity\"] = weather_details['humidity']\n",
        "            df.loc[idx,\"wind_deg\"] = weather_details['wind_deg']\n",
        "            df.loc[idx,\"wind_speed\"] = weather_details['wind_speed']\n",
        "            df.loc[idx,\"rain\"] = weather_details['rain']\n",
        "            df.loc[idx,\"weather_desc\"] = weather_details['weather_desc']\n",
        "  save_dataframe_to_csv(df,'virginia_accidents_weather.csv')\n",
        "  return df"
      ],
      "metadata": {
        "id": "9-Z8htjDDnqg"
      },
      "execution_count": 18,
      "outputs": []
    },
    {
      "cell_type": "markdown",
      "source": [
        "Get Florida Data by calling its AJAX Query obtained from Inspecting the website and checking the AJAX call in Network"
      ],
      "metadata": {
        "id": "hIbDdqrQDxlb"
      }
    },
    {
      "cell_type": "code",
      "source": [
        "def get_florida_data_using_query(url):\n",
        "  data = requests.get(url).json()\n",
        "  column_names = [\"CRASH_DT\", \"CRASH_YEAR\", \"AGGRESSIVE_DRIVING_IND\",\"LAT\",\"LONG\",\"LOCATION\"]\n",
        "  df = pd.DataFrame(columns = column_names)\n",
        "  for i in range(len(data['features'])):\n",
        "    crash_date = int(data['features'][i]['attributes'][\"CRASH_DATE\"])//1000\n",
        "    crash_year = data['features'][i]['attributes'][\"CALENDAR_YEAR\"]\n",
        "    agg_driving_ind = data['features'][i]['attributes'][\"AGGRESSIVE_DRIVING_IND\"]\n",
        "    lng = data['features'][i]['attributes']['LONGITUDE']\n",
        "    lat = data['features'][1]['attributes']['LATITUDE']\n",
        "    df.loc[i] = [crash_date,crash_year,agg_driving_ind,lat,lng,\"Florida\"]\n",
        "  save_dataframe_to_csv(df,'florida_accidents.csv')\n",
        "  return df"
      ],
      "metadata": {
        "id": "JG8vLprJEQ6F"
      },
      "execution_count": 19,
      "outputs": []
    },
    {
      "cell_type": "markdown",
      "source": [
        "Preprocessing Data for making it ready for weather API call"
      ],
      "metadata": {
        "id": "WvQeCoRTnx1I"
      }
    },
    {
      "cell_type": "code",
      "source": [
        "def clean_florida_data(df):\n",
        "  # the crash_date in milliseconds, need to divide it by 1000\n",
        "  df[\"CRASH_DATE\"]=[datetime.datetime.fromtimestamp(dt) for dt in df.CRASH_DT.values]\n",
        "  df = df[((df['CRASH_DATE'] > (np.datetime64('today', 'D') - np.timedelta64(365, 'D'))) | (df['AGGRESSIVE_DRIVING_IND'] ==\"N\"))]\n",
        "  \n",
        "  return df"
      ],
      "metadata": {
        "id": "RTSVqp67jImW"
      },
      "execution_count": 20,
      "outputs": []
    },
    {
      "cell_type": "markdown",
      "source": [
        "Merging accidents and Weather Data"
      ],
      "metadata": {
        "id": "wS-uo61WDxj4"
      }
    },
    {
      "cell_type": "code",
      "source": [
        "def merge_weather_accident_florida(df):\n",
        "  for idx, row in df.iterrows():\n",
        "        if  df.loc[idx,'LAT'] and df.loc[idx,'LONG']:\n",
        "          weather_details = get_weather_data(api_key,str(df.loc[idx,'CRASH_DT']),df.loc[idx,'LAT'],df.loc[idx,'LONG'])\n",
        "          if weather_details:\n",
        "            df.loc[idx,\"cloudiness\"] = weather_details['cloudiness']\n",
        "            df.loc[idx,\"temperature\"] = weather_details['temperature']\n",
        "            df.loc[idx,\"feels_like\"] = weather_details['feels_like']\n",
        "            df.loc[idx,\"pressure\"] = weather_details['pressure']\n",
        "            df.loc[idx,\"humidity\"] = weather_details['humidity']\n",
        "            df.loc[idx,\"wind_deg\"] = weather_details['wind_deg']\n",
        "            df.loc[idx,\"wind_speed\"] = weather_details['wind_speed']\n",
        "            df.loc[idx,\"rain\"] = weather_details['rain']\n",
        "            df.loc[idx,\"weather_desc\"] = weather_details['weather_desc']\n",
        "  save_dataframe_to_csv(df,'florida_accidents_weather.csv')\n",
        "  return df"
      ],
      "metadata": {
        "id": "zHlV_E_jEYjj"
      },
      "execution_count": 21,
      "outputs": []
    },
    {
      "cell_type": "markdown",
      "source": [
        "Gathering all data and then Merging to Single DataFrame"
      ],
      "metadata": {
        "id": "8-fTNdfVEjap"
      }
    },
    {
      "cell_type": "code",
      "source": [
        "def create_accident_weather_data():\n",
        "  # Creating Florida Data\n",
        "  df = get_florida_data_using_query(florida_url)\n",
        "  cleaned_df = clean_florida_data(df)\n",
        "  df_florida = merge_weather_accident_florida(cleaned_df)\n",
        "  print(\"Florida Data is ready.\")\n",
        "\n",
        "  # Creating Virginia Data\n",
        "  df = get_virginia_data_using_api(virginia_url)\n",
        "  cleaned_df = clean_virginia_data(df)\n",
        "  df_virginia = merge_weather_accident_virginia(cleaned_df)\n",
        "  print(\"Virginia Data is ready.\")\n",
        "\n",
        "  # Creating NYC Data\n",
        "  df = get_nyc_data_using_api(nyc_url)\n",
        "  cleaned_df = clean_nyc_data(df)\n",
        "  df_nyc = merge_weather_accident_nyc(cleaned_df)\n",
        "  print(\"NYC Data is ready.\")  \n",
        "  \n",
        "  return df\n"
      ],
      "metadata": {
        "id": "SI65Z_pTVtXz"
      },
      "execution_count": 22,
      "outputs": []
    },
    {
      "cell_type": "code",
      "source": [
        "df = create_accident_weather_data()"
      ],
      "metadata": {
        "id": "sX9kcF_UdJb1"
      },
      "execution_count": null,
      "outputs": []
    },
    {
      "cell_type": "markdown",
      "source": [
        "Final Data Set"
      ],
      "metadata": {
        "id": "EPr2cyh4DlzQ"
      }
    },
    {
      "cell_type": "code",
      "source": [
        "print(\"Now Merging all the data.\")\n",
        "crash_df = merge_all_dataframes()\n",
        "df_final = add_carsh_location(crash_df)\n"
      ],
      "metadata": {
        "id": "l2g935Inl85Z"
      },
      "execution_count": null,
      "outputs": []
    },
    {
      "cell_type": "code",
      "source": [
        "save_dataframe_to_csv(df_final,'accidents_weather.csv')"
      ],
      "metadata": {
        "id": "MY6syXjG4aMk"
      },
      "execution_count": 40,
      "outputs": []
    },
    {
      "cell_type": "markdown",
      "source": [
        "Sample data"
      ],
      "metadata": {
        "id": "zPci1KlQmBsd"
      }
    },
    {
      "cell_type": "code",
      "source": [
        "df_final.head()"
      ],
      "metadata": {
        "id": "y8poUpcwDlPN",
        "colab": {
          "base_uri": "https://localhost:8080/",
          "height": 206
        },
        "outputId": "82da7def-0bf3-4661-9de7-fee3db816a49"
      },
      "execution_count": 38,
      "outputs": [
        {
          "output_type": "execute_result",
          "data": {
            "text/plain": [
              "     CRASH_DT   Latitude  Longitude  cloudiness  temperature  feels_like  \\\n",
              "0  1650153600  29.658049 -82.251173        40.0       299.56      299.56   \n",
              "1  1650067200  29.658049 -82.419410        40.0       296.29      296.44   \n",
              "2  1652832000  29.658049 -81.958554        72.0       301.11      303.74   \n",
              "3  1651622400  29.658049 -81.576383        97.0       299.19      299.19   \n",
              "4  1650931200  29.658049 -81.809890        13.0       297.92      298.05   \n",
              "\n",
              "   pressure  humidity  wind_deg  wind_speed  rain      weather_desc LOCATION  \\\n",
              "0    1014.0      70.0       0.0        0.00   0.0  scattered clouds  Florida   \n",
              "1    1019.0      68.0      50.0        4.63   0.0  scattered clouds  Florida   \n",
              "2    1013.0      70.0     171.0        1.80   0.0     broken clouds  Florida   \n",
              "3    1007.0      64.0     114.0        2.87   0.0   overcast clouds  Florida   \n",
              "4    1018.0      61.0      78.0        0.45   0.0        few clouds  Florida   \n",
              "\n",
              "  CRASH_DATE  DOW  Hour  zipcode  \n",
              "0 2022-04-17    6     0  32609.0  \n",
              "1 2022-04-16    5     0  32607.0  \n",
              "2 2022-05-18    2     0      NaN  \n",
              "3 2022-05-04    2     0  32131.0  \n",
              "4 2022-04-26    1     0  32147.0  "
            ],
            "text/html": [
              "\n",
              "  <div id=\"df-39dc01db-78b4-4334-afb4-dcf4db1909fa\">\n",
              "    <div class=\"colab-df-container\">\n",
              "      <div>\n",
              "<style scoped>\n",
              "    .dataframe tbody tr th:only-of-type {\n",
              "        vertical-align: middle;\n",
              "    }\n",
              "\n",
              "    .dataframe tbody tr th {\n",
              "        vertical-align: top;\n",
              "    }\n",
              "\n",
              "    .dataframe thead th {\n",
              "        text-align: right;\n",
              "    }\n",
              "</style>\n",
              "<table border=\"1\" class=\"dataframe\">\n",
              "  <thead>\n",
              "    <tr style=\"text-align: right;\">\n",
              "      <th></th>\n",
              "      <th>CRASH_DT</th>\n",
              "      <th>Latitude</th>\n",
              "      <th>Longitude</th>\n",
              "      <th>cloudiness</th>\n",
              "      <th>temperature</th>\n",
              "      <th>feels_like</th>\n",
              "      <th>pressure</th>\n",
              "      <th>humidity</th>\n",
              "      <th>wind_deg</th>\n",
              "      <th>wind_speed</th>\n",
              "      <th>rain</th>\n",
              "      <th>weather_desc</th>\n",
              "      <th>LOCATION</th>\n",
              "      <th>CRASH_DATE</th>\n",
              "      <th>DOW</th>\n",
              "      <th>Hour</th>\n",
              "      <th>zipcode</th>\n",
              "    </tr>\n",
              "  </thead>\n",
              "  <tbody>\n",
              "    <tr>\n",
              "      <th>0</th>\n",
              "      <td>1650153600</td>\n",
              "      <td>29.658049</td>\n",
              "      <td>-82.251173</td>\n",
              "      <td>40.0</td>\n",
              "      <td>299.56</td>\n",
              "      <td>299.56</td>\n",
              "      <td>1014.0</td>\n",
              "      <td>70.0</td>\n",
              "      <td>0.0</td>\n",
              "      <td>0.00</td>\n",
              "      <td>0.0</td>\n",
              "      <td>scattered clouds</td>\n",
              "      <td>Florida</td>\n",
              "      <td>2022-04-17</td>\n",
              "      <td>6</td>\n",
              "      <td>0</td>\n",
              "      <td>32609.0</td>\n",
              "    </tr>\n",
              "    <tr>\n",
              "      <th>1</th>\n",
              "      <td>1650067200</td>\n",
              "      <td>29.658049</td>\n",
              "      <td>-82.419410</td>\n",
              "      <td>40.0</td>\n",
              "      <td>296.29</td>\n",
              "      <td>296.44</td>\n",
              "      <td>1019.0</td>\n",
              "      <td>68.0</td>\n",
              "      <td>50.0</td>\n",
              "      <td>4.63</td>\n",
              "      <td>0.0</td>\n",
              "      <td>scattered clouds</td>\n",
              "      <td>Florida</td>\n",
              "      <td>2022-04-16</td>\n",
              "      <td>5</td>\n",
              "      <td>0</td>\n",
              "      <td>32607.0</td>\n",
              "    </tr>\n",
              "    <tr>\n",
              "      <th>2</th>\n",
              "      <td>1652832000</td>\n",
              "      <td>29.658049</td>\n",
              "      <td>-81.958554</td>\n",
              "      <td>72.0</td>\n",
              "      <td>301.11</td>\n",
              "      <td>303.74</td>\n",
              "      <td>1013.0</td>\n",
              "      <td>70.0</td>\n",
              "      <td>171.0</td>\n",
              "      <td>1.80</td>\n",
              "      <td>0.0</td>\n",
              "      <td>broken clouds</td>\n",
              "      <td>Florida</td>\n",
              "      <td>2022-05-18</td>\n",
              "      <td>2</td>\n",
              "      <td>0</td>\n",
              "      <td>NaN</td>\n",
              "    </tr>\n",
              "    <tr>\n",
              "      <th>3</th>\n",
              "      <td>1651622400</td>\n",
              "      <td>29.658049</td>\n",
              "      <td>-81.576383</td>\n",
              "      <td>97.0</td>\n",
              "      <td>299.19</td>\n",
              "      <td>299.19</td>\n",
              "      <td>1007.0</td>\n",
              "      <td>64.0</td>\n",
              "      <td>114.0</td>\n",
              "      <td>2.87</td>\n",
              "      <td>0.0</td>\n",
              "      <td>overcast clouds</td>\n",
              "      <td>Florida</td>\n",
              "      <td>2022-05-04</td>\n",
              "      <td>2</td>\n",
              "      <td>0</td>\n",
              "      <td>32131.0</td>\n",
              "    </tr>\n",
              "    <tr>\n",
              "      <th>4</th>\n",
              "      <td>1650931200</td>\n",
              "      <td>29.658049</td>\n",
              "      <td>-81.809890</td>\n",
              "      <td>13.0</td>\n",
              "      <td>297.92</td>\n",
              "      <td>298.05</td>\n",
              "      <td>1018.0</td>\n",
              "      <td>61.0</td>\n",
              "      <td>78.0</td>\n",
              "      <td>0.45</td>\n",
              "      <td>0.0</td>\n",
              "      <td>few clouds</td>\n",
              "      <td>Florida</td>\n",
              "      <td>2022-04-26</td>\n",
              "      <td>1</td>\n",
              "      <td>0</td>\n",
              "      <td>32147.0</td>\n",
              "    </tr>\n",
              "  </tbody>\n",
              "</table>\n",
              "</div>\n",
              "      <button class=\"colab-df-convert\" onclick=\"convertToInteractive('df-39dc01db-78b4-4334-afb4-dcf4db1909fa')\"\n",
              "              title=\"Convert this dataframe to an interactive table.\"\n",
              "              style=\"display:none;\">\n",
              "        \n",
              "  <svg xmlns=\"http://www.w3.org/2000/svg\" height=\"24px\"viewBox=\"0 0 24 24\"\n",
              "       width=\"24px\">\n",
              "    <path d=\"M0 0h24v24H0V0z\" fill=\"none\"/>\n",
              "    <path d=\"M18.56 5.44l.94 2.06.94-2.06 2.06-.94-2.06-.94-.94-2.06-.94 2.06-2.06.94zm-11 1L8.5 8.5l.94-2.06 2.06-.94-2.06-.94L8.5 2.5l-.94 2.06-2.06.94zm10 10l.94 2.06.94-2.06 2.06-.94-2.06-.94-.94-2.06-.94 2.06-2.06.94z\"/><path d=\"M17.41 7.96l-1.37-1.37c-.4-.4-.92-.59-1.43-.59-.52 0-1.04.2-1.43.59L10.3 9.45l-7.72 7.72c-.78.78-.78 2.05 0 2.83L4 21.41c.39.39.9.59 1.41.59.51 0 1.02-.2 1.41-.59l7.78-7.78 2.81-2.81c.8-.78.8-2.07 0-2.86zM5.41 20L4 18.59l7.72-7.72 1.47 1.35L5.41 20z\"/>\n",
              "  </svg>\n",
              "      </button>\n",
              "      \n",
              "  <style>\n",
              "    .colab-df-container {\n",
              "      display:flex;\n",
              "      flex-wrap:wrap;\n",
              "      gap: 12px;\n",
              "    }\n",
              "\n",
              "    .colab-df-convert {\n",
              "      background-color: #E8F0FE;\n",
              "      border: none;\n",
              "      border-radius: 50%;\n",
              "      cursor: pointer;\n",
              "      display: none;\n",
              "      fill: #1967D2;\n",
              "      height: 32px;\n",
              "      padding: 0 0 0 0;\n",
              "      width: 32px;\n",
              "    }\n",
              "\n",
              "    .colab-df-convert:hover {\n",
              "      background-color: #E2EBFA;\n",
              "      box-shadow: 0px 1px 2px rgba(60, 64, 67, 0.3), 0px 1px 3px 1px rgba(60, 64, 67, 0.15);\n",
              "      fill: #174EA6;\n",
              "    }\n",
              "\n",
              "    [theme=dark] .colab-df-convert {\n",
              "      background-color: #3B4455;\n",
              "      fill: #D2E3FC;\n",
              "    }\n",
              "\n",
              "    [theme=dark] .colab-df-convert:hover {\n",
              "      background-color: #434B5C;\n",
              "      box-shadow: 0px 1px 3px 1px rgba(0, 0, 0, 0.15);\n",
              "      filter: drop-shadow(0px 1px 2px rgba(0, 0, 0, 0.3));\n",
              "      fill: #FFFFFF;\n",
              "    }\n",
              "  </style>\n",
              "\n",
              "      <script>\n",
              "        const buttonEl =\n",
              "          document.querySelector('#df-39dc01db-78b4-4334-afb4-dcf4db1909fa button.colab-df-convert');\n",
              "        buttonEl.style.display =\n",
              "          google.colab.kernel.accessAllowed ? 'block' : 'none';\n",
              "\n",
              "        async function convertToInteractive(key) {\n",
              "          const element = document.querySelector('#df-39dc01db-78b4-4334-afb4-dcf4db1909fa');\n",
              "          const dataTable =\n",
              "            await google.colab.kernel.invokeFunction('convertToInteractive',\n",
              "                                                     [key], {});\n",
              "          if (!dataTable) return;\n",
              "\n",
              "          const docLinkHtml = 'Like what you see? Visit the ' +\n",
              "            '<a target=\"_blank\" href=https://colab.research.google.com/notebooks/data_table.ipynb>data table notebook</a>'\n",
              "            + ' to learn more about interactive tables.';\n",
              "          element.innerHTML = '';\n",
              "          dataTable['output_type'] = 'display_data';\n",
              "          await google.colab.output.renderOutput(dataTable, element);\n",
              "          const docLink = document.createElement('div');\n",
              "          docLink.innerHTML = docLinkHtml;\n",
              "          element.appendChild(docLink);\n",
              "        }\n",
              "      </script>\n",
              "    </div>\n",
              "  </div>\n",
              "  "
            ]
          },
          "metadata": {},
          "execution_count": 38
        }
      ]
    },
    {
      "cell_type": "code",
      "source": [
        "df_final.info()"
      ],
      "metadata": {
        "colab": {
          "base_uri": "https://localhost:8080/"
        },
        "id": "Sab1uoDw6iK0",
        "outputId": "fd928952-4fba-4d21-c663-b712290a0e9d"
      },
      "execution_count": 43,
      "outputs": [
        {
          "output_type": "stream",
          "name": "stdout",
          "text": [
            "<class 'pandas.core.frame.DataFrame'>\n",
            "RangeIndex: 8523 entries, 0 to 8522\n",
            "Data columns (total 17 columns):\n",
            " #   Column        Non-Null Count  Dtype         \n",
            "---  ------        --------------  -----         \n",
            " 0   CRASH_DT      8523 non-null   int64         \n",
            " 1   Latitude      8523 non-null   float64       \n",
            " 2   Longitude     8523 non-null   float64       \n",
            " 3   cloudiness    8144 non-null   float64       \n",
            " 4   temperature   8144 non-null   float64       \n",
            " 5   feels_like    8144 non-null   float64       \n",
            " 6   pressure      8144 non-null   float64       \n",
            " 7   humidity      8144 non-null   float64       \n",
            " 8   wind_deg      8144 non-null   float64       \n",
            " 9   wind_speed    8144 non-null   float64       \n",
            " 10  rain          8144 non-null   float64       \n",
            " 11  weather_desc  8144 non-null   object        \n",
            " 12  LOCATION      8523 non-null   object        \n",
            " 13  CRASH_DATE    8523 non-null   datetime64[ns]\n",
            " 14  DOW           8523 non-null   int64         \n",
            " 15  Hour          8523 non-null   int64         \n",
            " 16  zipcode       7243 non-null   float64       \n",
            "dtypes: datetime64[ns](1), float64(11), int64(3), object(2)\n",
            "memory usage: 1.1+ MB\n"
          ]
        }
      ]
    },
    {
      "cell_type": "markdown",
      "source": [
        "High Level Analysis of our Data"
      ],
      "metadata": {
        "id": "P1xnrnb4EsVY"
      }
    },
    {
      "cell_type": "code",
      "source": [
        "fig, ax = plt.subplots()\n",
        "df_final['DOW'].value_counts().plot(ax=ax, kind='bar')"
      ],
      "metadata": {
        "id": "xKMagFzvEuob",
        "colab": {
          "base_uri": "https://localhost:8080/",
          "height": 279
        },
        "outputId": "2cf3798b-a975-4a9d-d2e8-b448eb8fb59b"
      },
      "execution_count": 41,
      "outputs": [
        {
          "output_type": "execute_result",
          "data": {
            "text/plain": [
              "<matplotlib.axes._subplots.AxesSubplot at 0x7f995040d350>"
            ]
          },
          "metadata": {},
          "execution_count": 41
        },
        {
          "output_type": "display_data",
          "data": {
            "text/plain": [
              "<Figure size 432x288 with 1 Axes>"
            ],
            "image/png": "[encoded data removed]"
          },
          "metadata": {
            "needs_background": "light"
          }
        }
      ]
    },
    {
      "cell_type": "code",
      "source": [
        "fig, ax = plt.subplots()\n",
        "df_final['Hour'].value_counts().plot(ax=ax, kind='bar')"
      ],
      "metadata": {
        "id": "sec9ONaiE78d",
        "colab": {
          "base_uri": "https://localhost:8080/",
          "height": 285
        },
        "outputId": "cd11eb5c-ba66-429b-8906-9dfd26a280d1"
      },
      "execution_count": 42,
      "outputs": [
        {
          "output_type": "execute_result",
          "data": {
            "text/plain": [
              "<matplotlib.axes._subplots.AxesSubplot at 0x7f99504c0150>"
            ]
          },
          "metadata": {},
          "execution_count": 42
        },
        {
          "output_type": "display_data",
          "data": {
            "text/plain": [
              "<Figure size 432x288 with 1 Axes>"
            ],
            "image/png": "[encoded data removed]"
          },
          "metadata": {
            "needs_background": "light"
          }
        }
      ]
    },
    {
      "cell_type": "code",
      "source": [
        ""
      ],
      "metadata": {
        "id": "7UN8UPB7mcJo"
      },
      "execution_count": null,
      "outputs": []
    }
  ]
}